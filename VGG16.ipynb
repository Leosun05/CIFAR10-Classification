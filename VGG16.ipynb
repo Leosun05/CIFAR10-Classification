{
  "nbformat": 4,
  "nbformat_minor": 0,
  "metadata": {
    "colab": {
      "name": "VGG16.ipynb",
      "provenance": [],
      "collapsed_sections": []
    },
    "kernelspec": {
      "name": "python3",
      "display_name": "Python 3"
    },
    "language_info": {
      "name": "python"
    }
  },
  "cells": [
    {
      "cell_type": "code",
      "source": [
        "import torch\n",
        "import torch.nn as nn\n",
        "import torchvision\n",
        "import torchvision.datasets as datasets\n",
        "import torchvision.transforms as transforms\n",
        "import torch.nn.functional as F\n",
        "from torchsummary import summary\n",
        "\n",
        "\n",
        "\n",
        "import tensorflow as tf\n",
        "import os\n",
        "os.environ['TF_CPP_MIN_LOG_LEVEL'] = '2'  \n",
        "os.environ[\"CUDA_DEVICE_ORDER\"]=\"PCI_BUS_ID\"\n",
        "# The GPU id to use, usually either \"0\" or \"1\"\n",
        "os.environ[\"CUDA_VISIBLE_DEVICES\"]=\"0\"\n",
        "config = tf.compat.v1.ConfigProto()\n",
        "config.gpu_options.per_process_gpu_memory_fraction = 0.9\n",
        "# config.gpu_options.allow_growth = True\n",
        "session = tf.compat.v1.Session(config=config)"
      ],
      "metadata": {
        "id": "T3i2PLs9FzhD"
      },
      "execution_count": null,
      "outputs": []
    },
    {
      "cell_type": "code",
      "source": [
        "transform = transforms.Compose([\n",
        "#     transforms.CenterCrop(224),\n",
        "    transforms.RandomCrop(32,padding=4),  \n",
        "    transforms.RandomHorizontalFlip(),  \n",
        "    transforms.ToTensor(),\n",
        "    transforms.Normalize((0.5, 0.5, 0.5), (0.5, 0.5, 0.5))\n",
        "]) \n",
        "\n",
        "\n",
        "Batch_Size = 512\n",
        "\n",
        "trainset = datasets.CIFAR10(root='./data', train=True,download=True, transform=transform)\n",
        "testset = datasets.CIFAR10(root='./data',train=False,download=True,transform=transform)\n",
        "trainloader = torch.utils.data.DataLoader(trainset, batch_size=Batch_Size,shuffle=True, num_workers=8)\n",
        "testloader = torch.utils.data.DataLoader(testset, batch_size=Batch_Size,shuffle=True, num_workers=8)\n",
        "classes = ('plane', 'car', 'bird', 'cat','deer', 'dog', 'frog', 'horse', 'ship', 'truck')\n",
        "\n",
        "classes = trainset.classes\n",
        "classes\n",
        "\n",
        "\n",
        "\n",
        "\n",
        "\n"
      ],
      "metadata": {
        "id": "nlp97PllFzjx"
      },
      "execution_count": null,
      "outputs": []
    },
    {
      "cell_type": "code",
      "source": [
        "trainset.class_to_idx"
      ],
      "metadata": {
        "id": "rkZJN7hqFzmX"
      },
      "execution_count": null,
      "outputs": []
    },
    {
      "cell_type": "code",
      "source": [
        "trainset.data.shape"
      ],
      "metadata": {
        "id": "Y_TdD3m3FzpO"
      },
      "execution_count": null,
      "outputs": []
    },
    {
      "cell_type": "code",
      "source": [
        "import numpy as np\n",
        "import matplotlib.pyplot as plt\n",
        "plt.imshow(trainset.data[23])\n",
        "im,label = iter(trainloader).next()"
      ],
      "metadata": {
        "id": "q35jL24ZFzru"
      },
      "execution_count": null,
      "outputs": []
    },
    {
      "cell_type": "code",
      "source": [
        "def imshow(img):\n",
        "    img = img / 2 + 0.5\n",
        "    img = np.transpose(img.numpy(),(1,2,0))\n",
        "    plt.imshow(img)\n",
        "    "
      ],
      "metadata": {
        "id": "v0o0cx7DFzuM"
      },
      "execution_count": null,
      "outputs": []
    },
    {
      "cell_type": "code",
      "source": [
        "imshow(im[2])\n"
      ],
      "metadata": {
        "id": "40Ci9-xmFzxT"
      },
      "execution_count": null,
      "outputs": []
    },
    {
      "cell_type": "code",
      "source": [
        "#VGG16\n",
        "\n",
        "\n",
        "device = 'cuda' if torch.cuda.is_available() else 'cpu' # 判断是否用GPU\n",
        "device\n",
        "\n",
        "\n"
      ],
      "metadata": {
        "id": "hN2zgGWMFzz5"
      },
      "execution_count": null,
      "outputs": []
    },
    {
      "cell_type": "code",
      "source": [
        "cfg = {\n",
        "  \n",
        "    'VGG16': [64, 64, 'M', 128, 128, 'M', 256, 256, 256, 'M', 512, 512, 512, 'M', 512, 512, 512, 'M'],\n",
        "    'VGG19': [64, 64, 'M', 128, 128, 'M', 256, 256, 256, 256, 'M', 512, 512, 512, 512, 'M', 512, 512, 512, 512, 'M'],\n",
        "}"
      ],
      "metadata": {
        "id": "iCBdQ9anFz2V"
      },
      "execution_count": null,
      "outputs": []
    },
    {
      "cell_type": "code",
      "source": [
        "class VGG(nn.Module):\n",
        "    \n",
        "    def __init__(self, vgg_name):\n",
        "        super(VGG, self).__init__()\n",
        "        self.features = self._make_layers(cfg[vgg_name])\n",
        "        self.classifier = nn.Sequential(\n",
        "            nn.Linear(512,512),\n",
        "            nn.ReLU(True),\n",
        "            nn.Dropout(0.2),\n",
        "            nn.Linear(512,512),\n",
        "            nn.ReLU(True),\n",
        "            nn.Dropout(0.2),\n",
        "            nn.Linear(512,10),\n",
        "        )\n",
        "#         self.classifier = nn.Linear(512,10)\n",
        "\n",
        "        self._initialize_weight()\n",
        "        \n",
        "    def forward(self, x):\n",
        "        out = self.features(x)\n",
        "   \n",
        "        out = out.view(out.size(0), -1)\n",
        "        out = self.classifier(out)\n",
        "        return out\n",
        "    \n",
        "    # make layers\n",
        "    def _make_layers(self, cfg):\n",
        "        layers = []\n",
        "        in_channels = 3 # RGB  \n",
        "        for x in cfg:\n",
        "            if x == 'M':\n",
        "                layers += [nn.MaxPool2d(kernel_size=2, stride=2)] # kernel_size 为 2 x 2,然后步长为2\n",
        "            else:\n",
        "                layers += [nn.Conv2d(in_channels, x, kernel_size=3, padding=1), # 都是(3.3)的卷积核\n",
        "                           nn.BatchNorm2d(x),\n",
        "                           nn.ReLU(inplace=True)]  # RelU\n",
        "                in_channels = x   \n",
        "#         layers += [nn.AvgPool2d(kernel_size=1, stride=1)]\n",
        "        return nn.Sequential(*layers)\n",
        "    \n",
        "    \n",
        "    def _initialize_weight(self):\n",
        "        for m in self.modules():\n",
        "            if isinstance(m, nn.Conv2d):\n",
        "                # xavier is used in VGG's paper\n",
        "                nn.init.xavier_normal_(m.weight.data)\n",
        "                if m.bias is not None:\n",
        "                    m.bias.data.zero_()\n",
        "            elif isinstance(m, nn.BatchNorm2d):\n",
        "                m.weight.data.fill_(1)\n",
        "                m.bias.data.zero_()\n",
        "            elif isinstance(m, nn.Linear):\n",
        "                m.weight.data.normal_(0, 0.01)\n",
        "                m.bias.data.zero_()\n",
        "net = VGG('VGG16').to(device)"
      ],
      "metadata": {
        "id": "sCkb3tHvFz5H"
      },
      "execution_count": null,
      "outputs": []
    },
    {
      "cell_type": "code",
      "source": [
        "summary(net,(3,32,32))\n",
        "\n",
        "\n"
      ],
      "metadata": {
        "id": "V3Dc0gEYFz7d"
      },
      "execution_count": null,
      "outputs": []
    },
    {
      "cell_type": "code",
      "source": [
        "print(net)\n"
      ],
      "metadata": {
        "id": "X_gCs7W9Gk50"
      },
      "execution_count": null,
      "outputs": []
    },
    {
      "cell_type": "code",
      "source": [
        "x = torch.randn(2,3,32,32).to(device)\n",
        "y = net(x)\n",
        "print(y.shape)\n",
        "\n"
      ],
      "metadata": {
        "id": "It0ZFRigGk8S"
      },
      "execution_count": null,
      "outputs": []
    },
    {
      "cell_type": "code",
      "source": [
        "net = VGG('VGG16').to(device)\n",
        "if device == 'cuda':\n",
        "    net = nn.DataParallel(net)\n",
        "     \n",
        "    torch.backends.cudnn.benchmark = True\n",
        "\n",
        "\n",
        "\n"
      ],
      "metadata": {
        "id": "R0Tm0kq4Gk-v"
      },
      "execution_count": null,
      "outputs": []
    },
    {
      "cell_type": "code",
      "source": [
        "import torch.optim as optim\n",
        "optimizer = optim.SGD(net.parameters(), lr=1e-1, momentum=0.9, weight_decay=5e-4)\n",
        "criterion = nn.CrossEntropyLoss()\n",
        "scheduler = optim.lr_scheduler.ReduceLROnPlateau(optimizer, 'min', factor=0.5,verbose=True,patience = 5,min_lr = 0.000001) # 动态更新学习率\n",
        "# scheduler = optim.lr_scheduler.MultiStepLR(optimizer, milestones=[75, 150], gamma=0.5)\n",
        "\n",
        "import time\n",
        "epoch = 100\n",
        "\n",
        "\n"
      ],
      "metadata": {
        "id": "yQ1Pk2fjGlBW"
      },
      "execution_count": null,
      "outputs": []
    },
    {
      "cell_type": "code",
      "source": [
        "import os\n",
        "if not os.path.exists('./model'):\n",
        "    os.makedirs('./model')\n",
        "else:\n",
        "    print('文件已存在')\n",
        "save_path = './model/VGG16.pth'\n",
        "\n"
      ],
      "metadata": {
        "id": "Rp_mb9rxGlDn"
      },
      "execution_count": null,
      "outputs": []
    },
    {
      "cell_type": "code",
      "source": [
        "from utils import train\n",
        "from utils import plot_history\n",
        "Acc, Loss, Lr = train(net, trainloader, testloader, epoch, optimizer, criterion, scheduler, save_path, verbose = True)\n"
      ],
      "metadata": {
        "id": "h3B9mPXhGlGE"
      },
      "execution_count": null,
      "outputs": []
    },
    {
      "cell_type": "code",
      "source": [
        "plot_history(epoch ,Acc, Loss, Lr)\n"
      ],
      "metadata": {
        "id": "eCc_ZzpgGlIa"
      },
      "execution_count": null,
      "outputs": []
    },
    {
      "cell_type": "code",
      "source": [
        "correct = 0    \n",
        "total = 0      \n",
        "\n",
        "wrong = 0 \n",
        "wrong_total = 0\n",
        "\n",
        "testloader = torch.utils.data.DataLoader(testset, batch_size=32,shuffle=True, num_workers=0)\n",
        "net.eval()\n",
        "for data in testloader:   \n",
        "    images, labels = data\n",
        "    images = images.to(device)\n",
        "    labels = labels.to(device)\n",
        "    net.eval() \n",
        "    if hasattr(torch.cuda, 'empty_cache'):\n",
        "        torch.cuda.empty_cache()\n",
        "    outputs = net(images)   \n",
        "    \n",
        "     \n",
        "    _, predicted = torch.max(outputs.data, 1)\n",
        "    total += labels.size(0)           \n",
        "    correct += (predicted == labels).sum() \n",
        "\n",
        "    wrong  += (predicted != labels).sum()\n",
        "    # print(wrong)\n",
        "\n",
        "\n",
        "\n",
        "\n",
        "print('Accuracy of the network on the 10000 test images: %.2f %%' % (100 * correct / total))\n",
        " "
      ],
      "metadata": {
        "id": "wpQhpVNYGlKx"
      },
      "execution_count": null,
      "outputs": []
    },
    {
      "cell_type": "code",
      "source": [
        "from numpy.lib import index_tricks\n",
        "from numpy.lib.index_tricks import IndexExpression\n",
        "dataiter = iter(testloader)\n",
        "images, labels = dataiter.next()\n",
        "images_ = images\n",
        "#images_ = images_.view(images.shape[0], -1)\n",
        "images_ = images_.to(device)\n",
        "labels = labels.to(device)\n",
        "val_output = net(images_)\n",
        "_, val_preds = torch.max(val_output, 1)\n",
        "\n",
        "fig = plt.figure(figsize=(25,4))\n",
        "\n",
        "correct = torch.sum(val_preds == labels.data).item()\n",
        "\n",
        "val_preds = val_preds.cpu()\n",
        "labels = labels.cpu()\n",
        "\n",
        "print(\"Accuracy Rate = {}%\".format(correct/len(images) * 100))\n",
        "\n",
        "fig = plt.figure(figsize=(25,25))\n",
        "index = []\n",
        "for idx in np.arange(32):    \n",
        "    if val_preds[idx].item()!=labels[idx].item():\n",
        "      index.append(idx)\n",
        "  #     ax = fig.add_subplot(8, 8, idx+1, xticks=[], yticks=[])\n",
        "  #     #fig.tight_layout()\n",
        "  # #     plt.imshow(im_convert(images[idx]))\n",
        "  #     imshow(images[idx])\n",
        "  #     ax.set_title(\"{}, ({})\".format(classes[val_preds[idx].item()], classes[labels[idx].item()]), \n",
        "  #                 color = (\"green\" if val_preds[idx].item()==labels[idx].item() else \"red\"))\n",
        "    else:\n",
        "      continue\n",
        "\n",
        "for i,idx in enumerate(index):\n",
        "  # print(idx)\n",
        "  ax = fig.add_subplot(10, 10, i+1, xticks=[], yticks=[])\n",
        "  #fig.tight_layout()\n",
        "#     plt.imshow(im_convert(images[idx]))\n",
        "  imshow(images[idx])\n",
        "  ax.set_title(\"{}, ({})\".format(classes[val_preds[idx].item()], classes[labels[idx].item()]), \n",
        "              color = (\"green\" if val_preds[idx].item()==labels[idx].item() else \"red\"))\n",
        "  \n",
        "  "
      ],
      "metadata": {
        "id": "he5kHNK1G9L9"
      },
      "execution_count": null,
      "outputs": []
    },
    {
      "cell_type": "code",
      "source": [
        "torch.save(net,save_path[:-4]+str(epoch)+'.pth')\n",
        "\n"
      ],
      "metadata": {
        "id": "jjM9EvYGG9OO"
      },
      "execution_count": null,
      "outputs": []
    },
    {
      "cell_type": "code",
      "source": [
        "import torch\n",
        "from PIL import Image\n",
        "from torch.autograd import Variable\n",
        "import torch.nn.functional as F\n",
        "from torchvision import datasets, transforms\n",
        "import numpy as np\n",
        " \n",
        "classes = ('plane', 'car', 'bird', 'cat',\n",
        "           'deer', 'dog', 'frog', 'horse', 'ship', 'truck')\n",
        "\n",
        "device = torch.device('cuda' if torch.cuda.is_available() else 'cpu')\n",
        "\n",
        "model = VGG('VGG16')\n",
        "\n",
        "model = torch.load(save_path)  #  \n",
        "# model = model.to('cuda')\n",
        "model.eval()  # \n",
        "\n",
        " \n",
        "img = Image.open(\"./airplane.jpg\").convert('RGB') # read image"
      ],
      "metadata": {
        "id": "kmBiOVwxG9Qt"
      },
      "execution_count": null,
      "outputs": []
    },
    {
      "cell_type": "code",
      "source": [
        "trans = transforms.Compose([transforms.Resize((32,32)),\n",
        "                            transforms.ToTensor(),\n",
        "                            transforms.Normalize(mean=(0.5, 0.5, 0.5), \n",
        "                                                 std=(0.5, 0.5, 0.5)),\n",
        "                           ])\n",
        " \n",
        "img = trans(img)\n",
        "img = img.to(device)\n",
        " \n",
        "img = img.unsqueeze(0)  \n",
        "    # 扩展后，为[1，1，28，28]\n",
        "output = model(img)\n",
        "prob = F.softmax(output,dim=1) #prob是10个分类的概率\n",
        "print(\"probability\",prob)\n",
        "value, predicted = torch.max(output.data, 1)\n",
        "print(\"classification\",predicted.item())\n",
        "print(value)\n",
        "pred_class = classes[predicted.item()]\n",
        "print(\"prediction\",pred_class)"
      ],
      "metadata": {
        "id": "9SMHItRfG9TF"
      },
      "execution_count": null,
      "outputs": []
    },
    {
      "cell_type": "code",
      "source": [
        ""
      ],
      "metadata": {
        "id": "Z6H3mAzPG9Vi"
      },
      "execution_count": null,
      "outputs": []
    },
    {
      "cell_type": "code",
      "source": [
        ""
      ],
      "metadata": {
        "id": "W8RZ6bQTG9X6"
      },
      "execution_count": null,
      "outputs": []
    },
    {
      "cell_type": "code",
      "source": [
        ""
      ],
      "metadata": {
        "id": "kdYyK7jgG9ag"
      },
      "execution_count": null,
      "outputs": []
    }
  ]
}